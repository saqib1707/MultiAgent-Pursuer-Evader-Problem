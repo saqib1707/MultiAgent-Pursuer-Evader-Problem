{
  "nbformat": 4,
  "nbformat_minor": 0,
  "metadata": {
    "colab": {
      "name": "basic_rnn_learning.ipynb",
      "version": "0.3.2",
      "provenance": [],
      "collapsed_sections": []
    },
    "kernelspec": {
      "name": "python3",
      "display_name": "Python 3"
    }
  },
  "cells": [
    {
      "metadata": {
        "id": "CeoJiP5Wdi1l",
        "colab_type": "code",
        "colab": {}
      },
      "cell_type": "code",
      "source": [
        "import numpy as np\n",
        "import tensorflow as tf\n",
        "import matplotlib.pyplot as plt"
      ],
      "execution_count": 0,
      "outputs": []
    },
    {
      "metadata": {
        "id": "N7otGMUcgwqG",
        "colab_type": "code",
        "colab": {}
      },
      "cell_type": "code",
      "source": [
        "# hyperparameters\n",
        "window_size = 10\n",
        "batch_size = 200\n",
        "num_classes = 2\n",
        "learning_rate = 0.1\n",
        "state_size = 4\n",
        "num_samples = 100000\n",
        "num_training_epochs = 20"
      ],
      "execution_count": 0,
      "outputs": []
    },
    {
      "metadata": {
        "id": "2LvPZeSkjVk9",
        "colab_type": "code",
        "colab": {}
      },
      "cell_type": "code",
      "source": [
        "def generate_data():\n",
        "  X = np.random.choice(a=[0,1], size=(num_samples))\n",
        "  Y = []\n",
        "  for index in range(num_samples):\n",
        "    thresh = 0.5\n",
        "    if X[index-3] == 1:\n",
        "      thresh += 0.5\n",
        "    if X[index-8] == 1:\n",
        "      thresh -= 0.25\n",
        "    if np.random.rand() > thresh:\n",
        "      Y.append(0)\n",
        "    else:\n",
        "      Y.append(1)\n",
        "  return X, np.array(Y)"
      ],
      "execution_count": 0,
      "outputs": []
    },
    {
      "metadata": {
        "id": "Y92SFKlrxXce",
        "colab_type": "code",
        "colab": {}
      },
      "cell_type": "code",
      "source": [
        "def get_next_batch(epoch_size, index):\n",
        "  return data_x[:,index*window_size:(index+1)*window_size], data_y[:,index*window_size:(index+1)*window_size]"
      ],
      "execution_count": 0,
      "outputs": []
    },
    {
      "metadata": {
        "id": "mk_Qgx7mxLkT",
        "colab_type": "code",
        "colab": {}
      },
      "cell_type": "code",
      "source": [
        "def rnn_cell(rnn_input, state):\n",
        "  with tf.variable_scope('rnn_cell', reuse=tf.AUTO_REUSE):\n",
        "    weight = tf.get_variable(name='w', shape=[num_classes+state_size, state_size])\n",
        "    bias = tf.get_variable(name='b', shape=[state_size], initializer=tf.constant_initializer(0.0))\n",
        "  next_state = tf.tanh(tf.add(tf.matmul(tf.concat([rnn_input,state], 1), weight), bias))\n",
        "  return next_state"
      ],
      "execution_count": 0,
      "outputs": []
    },
    {
      "metadata": {
        "id": "nvVpBMqwxN2X",
        "colab_type": "code",
        "colab": {}
      },
      "cell_type": "code",
      "source": [
        "def class_scores():\n",
        "\twith tf.variable_scope('softmax_predictions',reuse=tf.AUTO_REUSE):\n",
        "\t  weight = tf.get_variable(name='w', shape=[state_size,num_classes])\n",
        "\t  bias = tf.get_variable(name='b', shape=[num_classes], initializer=tf.constant_initializer(0.0))\n",
        "\tlogits = [tf.add(tf.matmul(rnn_output, weight), bias) for rnn_output in rnn_outputs]\n",
        "\treturn logits"
      ],
      "execution_count": 0,
      "outputs": []
    },
    {
      "metadata": {
        "id": "WXUMLL-gxS4S",
        "colab_type": "code",
        "colab": {}
      },
      "cell_type": "code",
      "source": [
        "raw_x, raw_y = generate_data()\n",
        "\n",
        "batch_partition_length = num_samples//batch_size\n",
        "data_x = np.zeros([batch_size, batch_partition_length], dtype=np.int32)\n",
        "data_y = np.zeros([batch_size, batch_partition_length], dtype=np.int32)\n",
        "\n",
        "for i in range(batch_size):\n",
        "  data_x[i] = raw_x[batch_partition_length*i:batch_partition_length*(i+1)]\n",
        "  data_y[i] = raw_y[batch_partition_length*i:batch_partition_length*(i+1)]"
      ],
      "execution_count": 0,
      "outputs": []
    },
    {
      "metadata": {
        "id": "5F2bG_xKxoMM",
        "colab_type": "code",
        "colab": {
          "base_uri": "https://localhost:8080/",
          "height": 88
        },
        "outputId": "255c1a08-d2f3-490d-f8a7-77e2a2340902"
      },
      "cell_type": "code",
      "source": [
        "x = tf.placeholder(dtype=tf.int32, shape=[batch_size, window_size], name='input_placeholder')\n",
        "y = tf.placeholder(dtype=tf.int32, shape=[batch_size, window_size], name='label_placeholder')\n",
        "init_state = tf.zeros(shape=[batch_size, state_size], dtype=tf.float32)\n",
        "\n",
        "x_one_hot = tf.one_hot(x, num_classes)\n",
        "rnn_inputs = tf.unstack(x_one_hot, axis=1)\n",
        "\n",
        "cell_state = init_state\n",
        "rnn_outputs = []\n",
        "\n",
        "for rnn_input in rnn_inputs:\n",
        "  cell_state = rnn_cell(rnn_input, cell_state)\n",
        "  rnn_outputs.append(cell_state)\n",
        "final_cell_state = rnn_outputs[window_size-1]"
      ],
      "execution_count": 8,
      "outputs": [
        {
          "output_type": "stream",
          "text": [
            "WARNING:tensorflow:From /usr/local/lib/python3.6/dist-packages/tensorflow/python/framework/op_def_library.py:263: colocate_with (from tensorflow.python.framework.ops) is deprecated and will be removed in a future version.\n",
            "Instructions for updating:\n",
            "Colocations handled automatically by placer.\n"
          ],
          "name": "stdout"
        }
      ]
    },
    {
      "metadata": {
        "id": "kv5uy4ePxqq6",
        "colab_type": "code",
        "colab": {}
      },
      "cell_type": "code",
      "source": [
        "logits = class_scores()\n",
        "output_predictions = [tf.nn.softmax(logit) for logit in logits]\n",
        "\n",
        "y_as_list = tf.unstack(y, num=window_size, axis=1)\n",
        "losses = [tf.nn.sparse_softmax_cross_entropy_with_logits(logits=logit, labels=label) for logit,label in zip(logits, y_as_list)]\n",
        "total_loss = tf.reduce_mean(losses)\n",
        "train_step = tf.train.AdamOptimizer(learning_rate).minimize(total_loss)"
      ],
      "execution_count": 0,
      "outputs": []
    },
    {
      "metadata": {
        "id": "Fjhtzh7Rxyah",
        "colab_type": "code",
        "colab": {}
      },
      "cell_type": "code",
      "source": [
        "def train_network(num_epochs):\n",
        "  with tf.Session() as sess:\n",
        "    sess.run(tf.global_variables_initializer())\n",
        "    training_loss = []\n",
        "\n",
        "    epoch_size = batch_partition_length//window_size\n",
        "    \n",
        "    for epoch in range(num_epochs):\n",
        "      for index in range(epoch_size):\n",
        "        [batch_x, batch_y] = get_next_batch(epoch_size, index)\n",
        "        _, loss_val = sess.run([train_step, total_loss], feed_dict={x:batch_x, y:batch_y})\n",
        "        training_loss.append(loss_val)\n",
        "#         print(\"Epoch :\", epoch, \"iteration :\", index, \"Loss Value :\", loss_val)\n",
        "  return training_loss"
      ],
      "execution_count": 0,
      "outputs": []
    },
    {
      "metadata": {
        "id": "8OyWmfFWx0WY",
        "colab_type": "code",
        "colab": {
          "base_uri": "https://localhost:8080/",
          "height": 269
        },
        "outputId": "3f5483ce-2f80-41d4-d84e-dc5f95594ce6"
      },
      "cell_type": "code",
      "source": [
        "training_losses = train_network(num_epochs=num_training_epochs)\n",
        "plt.plot(training_losses)\n",
        "plt.show()"
      ],
      "execution_count": 11,
      "outputs": [
        {
          "output_type": "display_data",
          "data": {
            "image/png": "[encoded data removed]",
            "text/plain": [
              "<Figure size 432x288 with 1 Axes>"
            ]
          },
          "metadata": {
            "tags": []
          }
        }
      ]
    }
  ]
}